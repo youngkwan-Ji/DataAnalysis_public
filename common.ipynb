{
 "cells": [
  {
   "cell_type": "code",
   "execution_count": 35,
   "outputs": [
    {
     "name": "stdout",
     "output_type": "stream",
     "text": [
      "(28, 2)\n",
      "(28, 1) (28, 1)\n",
      "   Hours\n",
      "0    2.5\n",
      "1    4.1\n",
      "   Scores\n",
      "0      24\n",
      "1      46\n"
     ]
    }
   ],
   "source": [
    "import pandas as pd\n",
    "# study = pd.read_csv('resource/dataset/StudentsStudyHour/Student Study Hour V2.csv')\n",
    "study = pd.read_csv('resource/dataset/StudentsStudyHour/Student Study Hour V3.csv')\n",
    "print(study.shape)\n",
    "study.head()\n",
    "\n",
    "\n",
    "x_study = study[['Hours']]\n",
    "y_study = study[['Scores']]\n",
    "print(x_study.shape, y_study.shape)\n",
    "print(x_study.head(2))\n",
    "print(y_study.head(2))\n",
    "\n",
    "\n",
    "# (7.3379121105182e+307, 2.3866622236073046e+307)"
   ],
   "metadata": {
    "collapsed": false,
    "pycharm": {
     "name": "#%%\n"
    }
   }
  },
  {
   "cell_type": "code",
   "execution_count": 58,
   "outputs": [
    {
     "data": {
      "text/plain": "0     20.705\n1     39.763\n2     25.836\n3     64.685\n4     28.035\n5     13.375\n6     69.816\n7     42.695\n8     63.219\n9     22.171\n10    58.821\n11    45.627\n12    35.365\n13    26.569\n14    10.443\n15    67.617\n16    20.705\n17    16.307\n18    47.093\n19    56.622\n20    22.171\n21    37.564\n22    30.234\n23    52.957\n24    59.554\n25    11.909\n26    21.438\n27    47.093\nName: Scores, dtype: float64"
     },
     "execution_count": 58,
     "metadata": {},
     "output_type": "execute_result"
    }
   ],
   "source": [
    "study['Scores']"
   ],
   "metadata": {
    "collapsed": false,
    "pycharm": {
     "name": "#%%\n"
    }
   }
  },
  {
   "cell_type": "code",
   "execution_count": 57,
   "outputs": [],
   "source": [
    "study['Scores'] = (study['Hours'] * 7.33 ) + 2.38"
   ],
   "metadata": {
    "collapsed": false,
    "pycharm": {
     "name": "#%%\n"
    }
   }
  },
  {
   "cell_type": "code",
   "execution_count": 37,
   "outputs": [],
   "source": [
    "\n",
    "\n",
    "\n",
    "import tensorflow as tf\n",
    "X = tf.keras.layers.Input(shape=[1])\n",
    "Y = tf.keras.layers.Dense(1)(X)\n",
    "bModel = tf.keras.models.Model(X, Y)\n",
    "bModel.compile(loss=\"mse\")\n",
    "# bModel.fit(x_study, y_study, epochs=15000, verbose=0)\n"
   ],
   "metadata": {
    "collapsed": false,
    "pycharm": {
     "name": "#%%\n"
    }
   }
  },
  {
   "cell_type": "code",
   "execution_count": 65,
   "outputs": [
    {
     "name": "stdout",
     "output_type": "stream",
     "text": [
      "Model: \"model_4\"\n",
      "_________________________________________________________________\n",
      " Layer (type)                Output Shape              Param #   \n",
      "=================================================================\n",
      " input_5 (InputLayer)        [(None, 1)]               0         \n",
      "                                                                 \n",
      " dense_4 (Dense)             (None, 1)                 2         \n",
      "                                                                 \n",
      "=================================================================\n",
      "Total params: 2\n",
      "Trainable params: 2\n",
      "Non-trainable params: 0\n",
      "_________________________________________________________________\n"
     ]
    }
   ],
   "source": [
    "# bModel.fit(x_study, y_study, epochs=15000, verbose=0)\n",
    "# bModel.get_weights()\n",
    "bModel.summary()"
   ],
   "metadata": {
    "collapsed": false,
    "pycharm": {
     "name": "#%%\n"
    }
   }
  },
  {
   "cell_type": "code",
   "execution_count": 62,
   "outputs": [
    {
     "ename": "ValueError",
     "evalue": "Layer dense_4 weight shape (1, 1) is not compatible with provided weight shape ().",
     "output_type": "error",
     "traceback": [
      "\u001B[0;31m---------------------------------------------------------------------------\u001B[0m",
      "\u001B[0;31mValueError\u001B[0m                                Traceback (most recent call last)",
      "Input \u001B[0;32mIn [62]\u001B[0m, in \u001B[0;36m<cell line: 1>\u001B[0;34m()\u001B[0m\n\u001B[0;32m----> 1\u001B[0m \u001B[43mbModel\u001B[49m\u001B[38;5;241;43m.\u001B[39;49m\u001B[43mlayers\u001B[49m\u001B[43m[\u001B[49m\u001B[38;5;241;43m1\u001B[39;49m\u001B[43m]\u001B[49m\u001B[38;5;241;43m.\u001B[39;49m\u001B[43mset_weights\u001B[49m\u001B[43m(\u001B[49m\u001B[43m[\u001B[49m\u001B[38;5;241;43m0\u001B[39;49m\u001B[43m,\u001B[49m\u001B[38;5;241;43m1\u001B[39;49m\u001B[43m]\u001B[49m\u001B[43m)\u001B[49m\n",
      "File \u001B[0;32m/opt/anaconda3/envs/dev_py38/lib/python3.8/site-packages/keras/engine/base_layer.py:1864\u001B[0m, in \u001B[0;36mLayer.set_weights\u001B[0;34m(self, weights)\u001B[0m\n\u001B[1;32m   1862\u001B[0m ref_shape \u001B[38;5;241m=\u001B[39m param\u001B[38;5;241m.\u001B[39mshape\n\u001B[1;32m   1863\u001B[0m \u001B[38;5;28;01mif\u001B[39;00m \u001B[38;5;129;01mnot\u001B[39;00m ref_shape\u001B[38;5;241m.\u001B[39mis_compatible_with(weight_shape):\n\u001B[0;32m-> 1864\u001B[0m   \u001B[38;5;28;01mraise\u001B[39;00m \u001B[38;5;167;01mValueError\u001B[39;00m(\n\u001B[1;32m   1865\u001B[0m       \u001B[38;5;124mf\u001B[39m\u001B[38;5;124m'\u001B[39m\u001B[38;5;124mLayer \u001B[39m\u001B[38;5;132;01m{\u001B[39;00m\u001B[38;5;28mself\u001B[39m\u001B[38;5;241m.\u001B[39mname\u001B[38;5;132;01m}\u001B[39;00m\u001B[38;5;124m weight shape \u001B[39m\u001B[38;5;132;01m{\u001B[39;00mref_shape\u001B[38;5;132;01m}\u001B[39;00m\u001B[38;5;124m \u001B[39m\u001B[38;5;124m'\u001B[39m\n\u001B[1;32m   1866\u001B[0m       \u001B[38;5;124m'\u001B[39m\u001B[38;5;124mis not compatible with provided weight \u001B[39m\u001B[38;5;124m'\u001B[39m\n\u001B[1;32m   1867\u001B[0m       \u001B[38;5;124mf\u001B[39m\u001B[38;5;124m'\u001B[39m\u001B[38;5;124mshape \u001B[39m\u001B[38;5;132;01m{\u001B[39;00mweight_shape\u001B[38;5;132;01m}\u001B[39;00m\u001B[38;5;124m.\u001B[39m\u001B[38;5;124m'\u001B[39m)\n\u001B[1;32m   1868\u001B[0m weight_value_tuples\u001B[38;5;241m.\u001B[39mappend((param, weight))\n\u001B[1;32m   1869\u001B[0m weight_index \u001B[38;5;241m+\u001B[39m\u001B[38;5;241m=\u001B[39m \u001B[38;5;241m1\u001B[39m\n",
      "\u001B[0;31mValueError\u001B[0m: Layer dense_4 weight shape (1, 1) is not compatible with provided weight shape ()."
     ]
    }
   ],
   "source": [
    "bModel.layers[1].set_weights([0,1])\n",
    "# bModel.predict(x_study)"
   ],
   "metadata": {
    "collapsed": false,
    "pycharm": {
     "name": "#%%\n"
    }
   }
  },
  {
   "cell_type": "code",
   "execution_count": null,
   "outputs": [],
   "source": [
    "y_study"
   ],
   "metadata": {
    "collapsed": false,
    "pycharm": {
     "name": "#%%\n"
    }
   }
  },
  {
   "cell_type": "code",
   "execution_count": 1,
   "outputs": [
    {
     "name": "stdout",
     "output_type": "stream",
     "text": [
      "(28, 2)\n",
      "(28, 1) (28, 1)\n",
      "   Hours\n",
      "0    2.5\n",
      "1    5.1\n",
      "   Scores\n",
      "0      21\n",
      "1      47\n"
     ]
    }
   ],
   "source": [
    "import pandas as pd\n",
    "study = pd.read_csv('resource/dataset/StudentsStudyHour/Student Study Hour V2.csv')\n",
    "# study = pd.read_csv('resource/dataset/StudentsStudyHour/Student Study Hour V3.csv')\n",
    "print(study.shape)\n",
    "study.head()\n",
    "\n",
    "x_study = study[['Hours']]\n",
    "y_study = study[['Scores']]\n",
    "print(x_study.shape, y_study.shape)\n",
    "print(x_study.head(2))\n",
    "print(y_study.head(2))\n"
   ],
   "metadata": {
    "collapsed": false,
    "pycharm": {
     "name": "#%%\n"
    }
   }
  },
  {
   "cell_type": "code",
   "execution_count": 22,
   "outputs": [],
   "source": [
    "\n",
    "import tensorflow as tf\n",
    "X = tf.keras.layers.Input(shape=[1])\n",
    "Y = tf.keras.layers.Dense(1)(X)\n",
    "model = tf.keras.models.Model(X, Y)\n",
    "model.compile(loss=\"mse\")\n"
   ],
   "metadata": {
    "collapsed": false,
    "pycharm": {
     "name": "#%%\n"
    }
   }
  },
  {
   "cell_type": "code",
   "execution_count": 27,
   "metadata": {
    "collapsed": true
   },
   "outputs": [],
   "source": [
    "\n",
    "results = model.fit(x_study, y_study, epochs=50000, verbose=0)\n",
    "\n",
    "# weightA = model.get_weights()[0]\n",
    "# biasA = model.get_weights()[1]\n",
    "# print(weightA)\n",
    "# print(biasA)\n",
    "# weightA[2]\n",
    "\n",
    "# model.predict(x_study)"
   ]
  },
  {
   "cell_type": "code",
   "execution_count": 34,
   "outputs": [
    {
     "name": "stdout",
     "output_type": "stream",
     "text": [
      "1/1 [==============================] - 0s 13ms/step - loss: 26.3727\n"
     ]
    },
    {
     "ename": "TypeError",
     "evalue": "'float' object is not subscriptable",
     "output_type": "error",
     "traceback": [
      "\u001B[0;31m---------------------------------------------------------------------------\u001B[0m",
      "\u001B[0;31mTypeError\u001B[0m                                 Traceback (most recent call last)",
      "Input \u001B[0;32mIn [34]\u001B[0m, in \u001B[0;36m<cell line: 3>\u001B[0;34m()\u001B[0m\n\u001B[1;32m      1\u001B[0m \u001B[38;5;66;03m# results.history\u001B[39;00m\n\u001B[1;32m      2\u001B[0m acc \u001B[38;5;241m=\u001B[39m model\u001B[38;5;241m.\u001B[39mevaluate(x_study,y_study)\n\u001B[0;32m----> 3\u001B[0m \u001B[38;5;28mprint\u001B[39m(\u001B[43macc\u001B[49m\u001B[43m[\u001B[49m\u001B[38;5;124;43m'\u001B[39;49m\u001B[38;5;124;43maccuracy\u001B[39;49m\u001B[38;5;124;43m'\u001B[39;49m\u001B[43m]\u001B[49m)\n",
      "\u001B[0;31mTypeError\u001B[0m: 'float' object is not subscriptable"
     ]
    }
   ],
   "source": [
    "# results.history\n",
    "acc = model.evaluate(x_study,y_study)\n",
    "print(acc['accuracy'])\n",
    "# model.get_weights()"
   ],
   "metadata": {
    "collapsed": false,
    "pycharm": {
     "name": "#%%\n"
    }
   }
  },
  {
   "cell_type": "code",
   "execution_count": 31,
   "outputs": [
    {
     "data": {
      "text/plain": "array([[27.396965],\n       [52.559498],\n       [34.171494],\n       [85.46435 ],\n       [37.074863],\n       [17.719069],\n       [92.23887 ],\n       [56.430656],\n       [83.52877 ],\n       [29.332546],\n       [77.72202 ],\n       [60.301815],\n       [46.752758],\n       [35.139282],\n       [13.84791 ],\n       [89.3355  ],\n       [27.396965],\n       [21.590225],\n       [62.237392],\n       [74.81866 ],\n       [29.332546],\n       [49.656128],\n       [39.97823 ],\n       [69.97971 ],\n       [78.68982 ],\n       [15.783489],\n       [28.364754],\n       [62.237392]], dtype=float32)"
     },
     "execution_count": 31,
     "metadata": {},
     "output_type": "execute_result"
    }
   ],
   "source": [
    "model.predict(x_study)"
   ],
   "metadata": {
    "collapsed": false,
    "pycharm": {
     "name": "#%%\n"
    }
   }
  },
  {
   "cell_type": "code",
   "execution_count": 8,
   "outputs": [
    {
     "data": {
      "text/plain": "    Scores\n0       21\n1       47\n2       27\n3       75\n4       30\n5       20\n6       88\n7       60\n8       81\n9       25\n10      85\n11      62\n12      41\n13      42\n14      17\n15      95\n16      30\n17      24\n18      67\n19      69\n20      30\n21      54\n22      35\n23      76\n24      86\n25      19\n26      30\n27      63",
      "text/html": "<div>\n<style scoped>\n    .dataframe tbody tr th:only-of-type {\n        vertical-align: middle;\n    }\n\n    .dataframe tbody tr th {\n        vertical-align: top;\n    }\n\n    .dataframe thead th {\n        text-align: right;\n    }\n</style>\n<table border=\"1\" class=\"dataframe\">\n  <thead>\n    <tr style=\"text-align: right;\">\n      <th></th>\n      <th>Scores</th>\n    </tr>\n  </thead>\n  <tbody>\n    <tr>\n      <th>0</th>\n      <td>21</td>\n    </tr>\n    <tr>\n      <th>1</th>\n      <td>47</td>\n    </tr>\n    <tr>\n      <th>2</th>\n      <td>27</td>\n    </tr>\n    <tr>\n      <th>3</th>\n      <td>75</td>\n    </tr>\n    <tr>\n      <th>4</th>\n      <td>30</td>\n    </tr>\n    <tr>\n      <th>5</th>\n      <td>20</td>\n    </tr>\n    <tr>\n      <th>6</th>\n      <td>88</td>\n    </tr>\n    <tr>\n      <th>7</th>\n      <td>60</td>\n    </tr>\n    <tr>\n      <th>8</th>\n      <td>81</td>\n    </tr>\n    <tr>\n      <th>9</th>\n      <td>25</td>\n    </tr>\n    <tr>\n      <th>10</th>\n      <td>85</td>\n    </tr>\n    <tr>\n      <th>11</th>\n      <td>62</td>\n    </tr>\n    <tr>\n      <th>12</th>\n      <td>41</td>\n    </tr>\n    <tr>\n      <th>13</th>\n      <td>42</td>\n    </tr>\n    <tr>\n      <th>14</th>\n      <td>17</td>\n    </tr>\n    <tr>\n      <th>15</th>\n      <td>95</td>\n    </tr>\n    <tr>\n      <th>16</th>\n      <td>30</td>\n    </tr>\n    <tr>\n      <th>17</th>\n      <td>24</td>\n    </tr>\n    <tr>\n      <th>18</th>\n      <td>67</td>\n    </tr>\n    <tr>\n      <th>19</th>\n      <td>69</td>\n    </tr>\n    <tr>\n      <th>20</th>\n      <td>30</td>\n    </tr>\n    <tr>\n      <th>21</th>\n      <td>54</td>\n    </tr>\n    <tr>\n      <th>22</th>\n      <td>35</td>\n    </tr>\n    <tr>\n      <th>23</th>\n      <td>76</td>\n    </tr>\n    <tr>\n      <th>24</th>\n      <td>86</td>\n    </tr>\n    <tr>\n      <th>25</th>\n      <td>19</td>\n    </tr>\n    <tr>\n      <th>26</th>\n      <td>30</td>\n    </tr>\n    <tr>\n      <th>27</th>\n      <td>63</td>\n    </tr>\n  </tbody>\n</table>\n</div>"
     },
     "execution_count": 8,
     "metadata": {},
     "output_type": "execute_result"
    }
   ],
   "source": [
    "y_study"
   ],
   "metadata": {
    "collapsed": false,
    "pycharm": {
     "name": "#%%\n"
    }
   }
  },
  {
   "cell_type": "code",
   "execution_count": 11,
   "outputs": [
    {
     "name": "stdout",
     "output_type": "stream",
     "text": [
      "(28, 2)\n"
     ]
    }
   ],
   "source": [
    "import pandas as pd\n",
    "study = pd.read_csv('resource/dataset/StudentsStudyHour/Student Study Hour V2.csv')\n",
    "print(study.shape)\n",
    "study.head()\n",
    "\n",
    "## 독립 및 종속변수 설정 ##\n",
    "x_study = list(study['Hours'])\n",
    "y_study = list(study['Scores'])\n",
    "\n",
    "# 1. w와 b를 초기화(랜덤으로 값 정함)\n",
    "w = 1\n",
    "b = 1\n",
    "##이 떄 랜덤으로 만들어진 모델은 y = x + 1"
   ],
   "metadata": {
    "collapsed": false,
    "pycharm": {
     "name": "#%%\n"
    }
   }
  },
  {
   "cell_type": "code",
   "execution_count": 12,
   "outputs": [
    {
     "data": {
      "text/plain": "3.5"
     },
     "execution_count": 12,
     "metadata": {},
     "output_type": "execute_result"
    }
   ],
   "source": [
    "# 2. 랜덤 x값 넣어서 예측값 구해보기\n",
    "y_model = x_study[0] * w + b\n",
    "y_model"
   ],
   "metadata": {
    "collapsed": false,
    "pycharm": {
     "name": "#%%\n"
    }
   }
  },
  {
   "cell_type": "code",
   "execution_count": 13,
   "outputs": [
    {
     "data": {
      "text/plain": "21"
     },
     "execution_count": 13,
     "metadata": {},
     "output_type": "execute_result"
    }
   ],
   "source": [
    "y_study[0]"
   ],
   "metadata": {
    "collapsed": false,
    "pycharm": {
     "name": "#%%\n"
    }
   }
  },
  {
   "cell_type": "code",
   "execution_count": 14,
   "outputs": [
    {
     "data": {
      "text/plain": "17.5"
     },
     "execution_count": 14,
     "metadata": {},
     "output_type": "execute_result"
    }
   ],
   "source": [
    "y_study[0]-y_model"
   ],
   "metadata": {
    "collapsed": false,
    "pycharm": {
     "name": "#%%\n"
    }
   }
  },
  {
   "cell_type": "code",
   "execution_count": 15,
   "outputs": [
    {
     "data": {
      "text/plain": "3.75"
     },
     "execution_count": 15,
     "metadata": {},
     "output_type": "execute_result"
    }
   ],
   "source": [
    "#4. w(가중치)를 변경하여 예측값 측정\n",
    "w_add = w + 0.1\n",
    "y_model_add = x_study[0] * w_add + b\n",
    "y_model_add"
   ],
   "metadata": {
    "collapsed": false,
    "pycharm": {
     "name": "#%%\n"
    }
   }
  },
  {
   "cell_type": "code",
   "execution_count": 16,
   "outputs": [
    {
     "data": {
      "text/plain": "2.499999999999998"
     },
     "execution_count": 16,
     "metadata": {},
     "output_type": "execute_result"
    }
   ],
   "source": [
    "#5. w가 0.1만큼 증가했을 때 y_model이 얼마나 증가했는지 계산\n",
    "# =(y_model 증가량 / w 증가량)\n",
    "w_rate = (y_model_add - y_model) / (w_add - w)\n",
    "w_rate"
   ],
   "metadata": {
    "collapsed": false,
    "pycharm": {
     "name": "#%%\n"
    }
   }
  },
  {
   "cell_type": "code",
   "execution_count": 17,
   "outputs": [
    {
     "data": {
      "text/plain": "2.5"
     },
     "execution_count": 17,
     "metadata": {},
     "output_type": "execute_result"
    }
   ],
   "source": [
    "#위에서 구한 변화율은 x[0] 과 같음\n",
    "x_study[0]"
   ],
   "metadata": {
    "collapsed": false,
    "pycharm": {
     "name": "#%%\n"
    }
   }
  },
  {
   "cell_type": "code",
   "execution_count": 18,
   "outputs": [
    {
     "data": {
      "text/plain": "3.499999999999998"
     },
     "execution_count": 18,
     "metadata": {},
     "output_type": "execute_result"
    }
   ],
   "source": [
    "# 6. 변화율로 가중치 업데이트\n",
    "w_new = w + w_rate\n",
    "w_new"
   ],
   "metadata": {
    "collapsed": false,
    "pycharm": {
     "name": "#%%\n"
    }
   }
  },
  {
   "cell_type": "code",
   "execution_count": 19,
   "outputs": [
    {
     "data": {
      "text/plain": "3.6"
     },
     "execution_count": 19,
     "metadata": {},
     "output_type": "execute_result"
    }
   ],
   "source": [
    "#7.변화율로 절편 업데이트\n",
    "#b 증가율에 따른 y_model 값 증가값을 계산 후 변화율 계산\n",
    "b_add = b + 0.1\n",
    "y_model_add = x_study[0]*w + b_add\n",
    "y_model_add"
   ],
   "metadata": {
    "collapsed": false,
    "pycharm": {
     "name": "#%%\n"
    }
   }
  },
  {
   "cell_type": "code",
   "execution_count": 20,
   "outputs": [
    {
     "data": {
      "text/plain": "1.0"
     },
     "execution_count": 20,
     "metadata": {},
     "output_type": "execute_result"
    }
   ],
   "source": [
    "#다음 절편 값 구하는 과정\n",
    "b_rate = (y_model_add - y_model) / (b_add-b)\n",
    "b_rate"
   ],
   "metadata": {
    "collapsed": false,
    "pycharm": {
     "name": "#%%\n"
    }
   }
  },
  {
   "cell_type": "code",
   "execution_count": 21,
   "outputs": [
    {
     "data": {
      "text/plain": "2"
     },
     "execution_count": 21,
     "metadata": {},
     "output_type": "execute_result"
    }
   ],
   "source": [
    "# 다음 스텝에서 진행할 새로운 b값\n",
    "b_new = b + 1\n",
    "b_new"
   ],
   "metadata": {
    "collapsed": false,
    "pycharm": {
     "name": "#%%\n"
    }
   }
  },
  {
   "cell_type": "code",
   "execution_count": 22,
   "outputs": [
    {
     "data": {
      "text/plain": "(44.749999999999964, 18.5)"
     },
     "execution_count": 22,
     "metadata": {},
     "output_type": "execute_result"
    }
   ],
   "source": [
    "#1.변화율 * 오차로 가중치 업데이트\n",
    "error = y_study[0] - y_model\n",
    "w_new = w + w_rate *error\n",
    "b_new = b + 1*error\n",
    "w_new, b_new"
   ],
   "metadata": {
    "collapsed": false,
    "pycharm": {
     "name": "#%%\n"
    }
   }
  },
  {
   "cell_type": "code",
   "execution_count": 23,
   "outputs": [
    {
     "data": {
      "text/plain": "(-973.8474999999988, -181.2249999999998)"
     },
     "execution_count": 23,
     "metadata": {},
     "output_type": "execute_result"
    }
   ],
   "source": [
    "#2. x_study[1]을 사용해 오차를 구하고 1번과정과 마찬가지로 그 다음의 w,b값 찾기\n",
    "y_model = x_study[1] * w_new + b_new\n",
    "error = y_study[1] - y_model\n",
    "w_rate = x_study[1] #x값 자체가 변화율이므로\n",
    "w_new = w_new + w_rate * error\n",
    "b_new = b_new + 1 * error\n",
    "w_new, b_new"
   ],
   "metadata": {
    "collapsed": false,
    "pycharm": {
     "name": "#%%\n"
    }
   }
  },
  {
   "cell_type": "code",
   "execution_count": 24,
   "outputs": [
    {
     "data": {
      "text/plain": "(-3.7026494779228295e+34, -5.968245924096763e+33)"
     },
     "execution_count": 24,
     "metadata": {},
     "output_type": "execute_result"
    }
   ],
   "source": [
    "#모든 x값 반복하여 w,b구하기\n",
    "for x_i, y_i in zip(x_study,y_study):\n",
    "  y_model = x_i*w+b\n",
    "  error = y_i - y_model\n",
    "  w_rate = x_i\n",
    "  w = w+w_rate*error\n",
    "  b = b + 1*error\n",
    "\n",
    "w, b"
   ],
   "metadata": {
    "collapsed": false,
    "pycharm": {
     "name": "#%%\n"
    }
   }
  },
  {
   "cell_type": "code",
   "execution_count": 25,
   "outputs": [
    {
     "data": {
      "text/plain": "-15.219999999999999"
     },
     "execution_count": 25,
     "metadata": {},
     "output_type": "execute_result"
    }
   ],
   "source": [
    "y_hat = -3.7*x_study[0] + -5.97\n",
    "y_hat"
   ],
   "metadata": {
    "collapsed": false,
    "pycharm": {
     "name": "#%%\n"
    }
   }
  },
  {
   "cell_type": "code",
   "execution_count": 26,
   "outputs": [
    {
     "data": {
      "text/plain": "(7.3379121105182e+307, 2.3866622236073046e+307)"
     },
     "execution_count": 26,
     "metadata": {},
     "output_type": "execute_result"
    }
   ],
   "source": [
    "#학습 반복하여 더욱 향상된 모델 찾기\n",
    "for i in range(1,20):\n",
    "  for x_i, y_i in zip(x_study,y_study):\n",
    "    y_model= x_i*w+b\n",
    "    if y_model == float('inf'):\n",
    "      break\n",
    "    else:\n",
    "      error = y_i - y_model\n",
    "      w_rate = x_i\n",
    "      w = w+w_rate * error\n",
    "      b = b+1*error\n",
    "w,b"
   ],
   "metadata": {
    "collapsed": false,
    "pycharm": {
     "name": "#%%\n"
    }
   }
  },
  {
   "cell_type": "code",
   "execution_count": 27,
   "outputs": [
    {
     "data": {
      "text/plain": "20.740000000000002"
     },
     "execution_count": 27,
     "metadata": {},
     "output_type": "execute_result"
    }
   ],
   "source": [
    "new_ymodel = 7.34*x_study[0] + 2.39\n",
    "new_ymodel"
   ],
   "metadata": {
    "collapsed": false,
    "pycharm": {
     "name": "#%%\n"
    }
   }
  },
  {
   "cell_type": "code",
   "execution_count": 29,
   "outputs": [
    {
     "data": {
      "text/plain": "21"
     },
     "execution_count": 29,
     "metadata": {},
     "output_type": "execute_result"
    }
   ],
   "source": [
    "y_study[0]"
   ],
   "metadata": {
    "collapsed": false,
    "pycharm": {
     "name": "#%%\n"
    }
   }
  },
  {
   "cell_type": "code",
   "execution_count": 28,
   "outputs": [
    {
     "data": {
      "text/plain": "21"
     },
     "execution_count": 28,
     "metadata": {},
     "output_type": "execute_result"
    }
   ],
   "source": [],
   "metadata": {
    "collapsed": false,
    "pycharm": {
     "name": "#%%\n"
    }
   }
  }
 ],
 "metadata": {
  "kernelspec": {
   "name": "python3",
   "language": "python",
   "display_name": "Python 3 (ipykernel)"
  },
  "language_info": {
   "codemirror_mode": {
    "name": "ipython",
    "version": 2
   },
   "file_extension": ".py",
   "mimetype": "text/x-python",
   "name": "python",
   "nbconvert_exporter": "python",
   "pygments_lexer": "ipython2",
   "version": "2.7.6"
  }
 },
 "nbformat": 4,
 "nbformat_minor": 0
}